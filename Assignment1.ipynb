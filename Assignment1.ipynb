{
  "nbformat": 4,
  "nbformat_minor": 0,
  "metadata": {
    "colab": {
      "provenance": [],
      "authorship_tag": "ABX9TyPts056cyPt9gdQMHLJgoch",
      "include_colab_link": true
    },
    "kernelspec": {
      "name": "python3",
      "display_name": "Python 3"
    },
    "language_info": {
      "name": "python"
    }
  },
  "cells": [
    {
      "cell_type": "markdown",
      "metadata": {
        "id": "view-in-github",
        "colab_type": "text"
      },
      "source": [
        "<a href=\"https://colab.research.google.com/github/afsanakhanpatan/Assignment1/blob/main/Assignment1.ipynb\" target=\"_parent\"><img src=\"https://colab.research.google.com/assets/colab-badge.svg\" alt=\"Open In Colab\"/></a>"
      ]
    },
    {
      "cell_type": "code",
      "execution_count": null,
      "metadata": {
        "colab": {
          "base_uri": "https://localhost:8080/"
        },
        "id": "-yCt_aDNBQ99",
        "outputId": "8c7e5d78-bbc5-4f81-d56b-1e2edcfd3b91"
      },
      "outputs": [
        {
          "output_type": "stream",
          "name": "stdout",
          "text": [
            "Enter a string: I'm Afsana\n",
            "Reversed string: anasfA m'I\n"
          ]
        }
      ],
      "source": [
        "# Reverse a string without using built-in reverse\n",
        "string = input(\"Enter a string: \")\n",
        "\n",
        "reversed_string = \"\"\n",
        "\n",
        "# Loop through string in reverse order using index\n",
        "for i in range(len(string) - 1, -1, -1):\n",
        "    reversed_string += string[i]\n",
        "\n",
        "print(\"Reversed string:\", reversed_string)\n"
      ]
    },
    {
      "cell_type": "code",
      "source": [
        "# Check if a string is palindrome\n",
        "string = input(\"Enter a string: \")\n",
        "\n",
        "# Convert to lowercase to make it case-insensitive\n",
        "string = string.lower()\n",
        "\n",
        "# Remove spaces (optional, for ignoring spaces in phrases)\n",
        "string = string.replace(\" \", \"\")\n",
        "\n",
        "# Check palindrome using indexing\n",
        "if string == string[::-1]:\n",
        "    print(\"The string is a palindrome.\")\n",
        "else:\n",
        "    print(\"The string is not a palindrome.\")\n"
      ],
      "metadata": {
        "colab": {
          "base_uri": "https://localhost:8080/"
        },
        "id": "1oP1jXeRDXkX",
        "outputId": "66f76922-d536-4463-f861-68d114589253"
      },
      "execution_count": null,
      "outputs": [
        {
          "output_type": "stream",
          "name": "stdout",
          "text": [
            "Enter a string: racecar\n",
            "The string is a palindrome.\n"
          ]
        }
      ]
    },
    {
      "cell_type": "code",
      "source": [
        "# Count vowels and consonants in a string\n",
        "string = input(\"Enter a string: \")\n",
        "\n",
        "# Convert to lowercase to handle both cases\n",
        "string = string.lower()\n",
        "\n",
        "# Define vowels\n",
        "vowels_list = \"aeiou\"\n",
        "\n",
        "# Initialize counters\n",
        "vowels = 0\n",
        "consonants = 0\n",
        "\n",
        "# Loop through each character in the string\n",
        "for char in string:\n",
        "    if char.isalpha():  # Only consider letters\n",
        "        if char in vowels_list:\n",
        "            vowels += 1\n",
        "        else:\n",
        "            consonants += 1\n",
        "\n",
        "# Print results\n",
        "print(\"Number of vowels:\", vowels)\n",
        "print(\"Number of consonants:\", consonants)\n"
      ],
      "metadata": {
        "colab": {
          "base_uri": "https://localhost:8080/"
        },
        "id": "YhqiLh67EDza",
        "outputId": "c4ac50aa-7c19-41aa-b4e4-4152febd814f"
      },
      "execution_count": null,
      "outputs": [
        {
          "output_type": "stream",
          "name": "stdout",
          "text": [
            "Enter a string: Hello world\n",
            "Number of vowels: 3\n",
            "Number of consonants: 7\n"
          ]
        }
      ]
    },
    {
      "cell_type": "code",
      "source": [
        "# Remove all spaces from a string\n",
        "string = input(\"Enter a string: \")\n",
        "\n",
        "# Replace spaces with empty string\n",
        "no_spaces = string.replace(\" \", \"\")\n",
        "\n",
        "print(\"String without spaces:\", no_spaces)\n",
        "\n"
      ],
      "metadata": {
        "colab": {
          "base_uri": "https://localhost:8080/"
        },
        "id": "3uAVQwHNEoLz",
        "outputId": "614da227-3096-432f-cd8c-0c8092ff5435"
      },
      "execution_count": null,
      "outputs": [
        {
          "output_type": "stream",
          "name": "stdout",
          "text": [
            "Enter a string: I am Afsana Khan\n",
            "String without spaces: IamAfsanaKhan\n"
          ]
        }
      ]
    },
    {
      "cell_type": "code",
      "source": [
        "# Count frequency of each character in a string\n",
        "string = input(\"Enter a string: \")\n",
        "\n",
        "# Create an empty dictionary\n",
        "freq = {}\n",
        "\n",
        "for char in string:\n",
        "    freq[char] = freq.get(char, 0) + 1  # Increment count\n",
        "\n",
        "# Print character frequencies\n",
        "for key, value in freq.items():\n",
        "    print(f\"'{key}': {value}\")\n"
      ],
      "metadata": {
        "colab": {
          "base_uri": "https://localhost:8080/"
        },
        "id": "uIIVUcBVFRJm",
        "outputId": "775f8353-ac50-4dec-cd99-5287b2060dca"
      },
      "execution_count": null,
      "outputs": [
        {
          "output_type": "stream",
          "name": "stdout",
          "text": [
            "Enter a string: Afsana\n",
            "'A': 1\n",
            "'f': 1\n",
            "'s': 1\n",
            "'a': 2\n",
            "'n': 1\n"
          ]
        }
      ]
    }
  ]
}